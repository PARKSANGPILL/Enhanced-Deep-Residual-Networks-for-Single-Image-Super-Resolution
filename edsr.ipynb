{
 "cells": [
  {
   "cell_type": "code",
   "execution_count": null,
   "id": "593cb129",
   "metadata": {},
   "outputs": [],
   "source": [
    "import tensorflow as tf"
   ]
  },
  {
   "cell_type": "code",
   "execution_count": null,
   "id": "cbcc0b42",
   "metadata": {},
   "outputs": [],
   "source": [
    "def ResBlock(inputs, filters=256):\n",
    "    x = tf.keras.layers.Conv2D(filters=filters, kernel_size=3, strides=1, \n",
    "                               padding=\"same\", kernel_initializer='he_normal', activation=\"relu\")(inputs)\n",
    "    x = tf.keras.layers.Conv2D(filters=filters, kernel_size=3, strides=1, \n",
    "                               padding=\"same\", kernel_initializer='he_normal')(x)\n",
    "    x = tf.keras.layers.Lambda(lambda t: t * 0.1)(x)\n",
    "    x = tf.keras.layers.Add()([inputs, x])\n",
    "    return x\n",
    "\n",
    "def Upsampling(inputs, filters=256, factor=2):\n",
    "    x = tf.keras.layers.Conv2D(filters=filters*(factor**2), kernel_size=3, \n",
    "                               padding=\"same\", kernel_initializer='he_normal')(inputs)\n",
    "    x = tf.nn.depth_to_space(x, block_size=factor)\n",
    "    return x\n",
    "\n",
    "def PSNR(sr, hr):\n",
    "    psnr_value = tf.reduce_mean(tf.image.psnr(hr, sr, max_val=255))\n",
    "    return psnr_value"
   ]
  },
  {
   "cell_type": "code",
   "execution_count": null,
   "id": "5da142cf",
   "metadata": {},
   "outputs": [],
   "source": [
    "def model():\n",
    "    \n",
    "    inputs = tf.keras.layers.Input(shape=(None, None, 3))\n",
    "    rescale = tf.keras.layers.Rescaling(scale=1.0 / 255)(inputs)\n",
    "    \n",
    "    x = r = tf.keras.layers.Conv2D(filters=256, kernel_size=3, strides=1,\n",
    "                                       padding=\"same\", kernel_initializer='he_normal')(rescale)\n",
    "    \n",
    "    for _ in range(32):\n",
    "        r = ResBlock(r)\n",
    "    \n",
    "    r = tf.keras.layers.Conv2D(filters=256, kernel_size=3, strides=1,\n",
    "                               padding=\"same\", kernel_initializer='he_normal')(r)\n",
    "    x = x + r\n",
    "\n",
    "    x = Upsampling(x)\n",
    "    x = Upsampling(x)\n",
    "    \n",
    "    x = tf.keras.layers.Conv2D(filters=3, kernel_size=3, strides=1,\n",
    "                               padding=\"same\", kernel_initializer='he_normal')(x)\n",
    "    x = tf.keras.layers.Rescaling(scale=255)(x)\n",
    "    return tf.keras.Model(inputs = inputs, outputs = x)"
   ]
  },
  {
   "cell_type": "code",
   "execution_count": null,
   "id": "9efa80e2",
   "metadata": {},
   "outputs": [],
   "source": [
    "model=model()\n",
    "model.summary()"
   ]
  }
 ],
 "metadata": {
  "kernelspec": {
   "display_name": "Python 3",
   "language": "python",
   "name": "python3"
  },
  "language_info": {
   "codemirror_mode": {
    "name": "ipython",
    "version": 3
   },
   "file_extension": ".py",
   "mimetype": "text/x-python",
   "name": "python",
   "nbconvert_exporter": "python",
   "pygments_lexer": "ipython3",
   "version": "3.8.8"
  }
 },
 "nbformat": 4,
 "nbformat_minor": 5
}
